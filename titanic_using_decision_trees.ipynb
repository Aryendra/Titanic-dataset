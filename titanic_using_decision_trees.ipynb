{
 "cells": [
  {
   "cell_type": "code",
   "execution_count": null,
   "metadata": {},
   "outputs": [],
   "source": [
    "import numpy as np\n",
    "import pandas as pd\n",
    "import matplotlib.pyplot as plt\n",
    "%matplotlib inline\n",
    "data=pd.read_csv(r\"C:\\Users\\aryen\\OneDrive\\Desktop\\Decision_Tree\\data_cleaned.csv\")\n",
    "data.shape\n",
    "X=data.drop(['Survived'],axis=1)\n",
    "Y=data['Survived']\n",
    "from sklearn.model_selection import train_test_split\n",
    "X_train,X_test,Y_train,Y_test=train_test_split(X,Y,stratify=Y,test_size=0.25)\n",
    "from sklearn.tree import DecisionTreeClassifier\n",
    "model=DecisionTreeClassifier()\n",
    "model.fit(X_train,Y_train)\n",
    "Y_pred=model.predict(X_test)\n",
    "from sklearn.metrics import accuracy_score\n",
    "result=accuracy_score(Y_test,Y_pred)\n",
    "print(result)\n",
    "train_acc=[]\n",
    "test_acc=[]\n",
    "for i in range(1,10):\n",
    "    model1=DecisionTreeClassifier(max_depth=i)\n",
    "    model1.fit(X_train,Y_train)\n",
    "    train_acc.append(model1.score(X_train,Y_train))\n",
    "    test_acc.append(model1.score(X_test,Y_test))\n",
    "new=pd.DataFrame({'max_depth':range(1,10),'train':train_acc,'test':test_acc})   \n",
    "from sklearn import tree\n",
    "#!pip install graphviz\n",
    "#decision_tree=tree.export_graphviz(model1,out_file='tree.dot',feature_names=X_train.columns,max_depth=3,filled=True)\n",
    "#!dot -Tpng tree.dot -o tree.png\n",
    "#image=plt.imread('tree.png')\n",
    "\n",
    "\n",
    "from sklearn.tree._export import plot_tree\n",
    "plt.figure(figsize=(15,15))\n",
    "a=plot_tree(model1, feature_names=data.feature_names, class_names=data.target_names,filled=True,rounded=True,fontsize=14)\n",
    "#plt.imshow(image)"
   ]
  },
  {
   "cell_type": "code",
   "execution_count": null,
   "metadata": {},
   "outputs": [],
   "source": []
  }
 ],
 "metadata": {
  "kernelspec": {
   "display_name": "Python 3",
   "language": "python",
   "name": "python3"
  },
  "language_info": {
   "codemirror_mode": {
    "name": "ipython",
    "version": 3
   },
   "file_extension": ".py",
   "mimetype": "text/x-python",
   "name": "python",
   "nbconvert_exporter": "python",
   "pygments_lexer": "ipython3",
   "version": "3.7.4"
  }
 },
 "nbformat": 4,
 "nbformat_minor": 2
}
